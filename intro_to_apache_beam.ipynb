{
 "cells": [
  {
   "cell_type": "markdown",
   "id": "6f40c2de-68bb-4346-b4c2-b8c079b62129",
   "metadata": {},
   "source": [
    "# Introduction to Apache Beam Python SDK & Google Dataflow\n",
    "\n",
    "![title](./image/beam_mascot.png)\n",
    "\n",
    "## prepared and presented by Setia Budi"
   ]
  },
  {
   "cell_type": "markdown",
   "id": "ddf49c82-984a-47ab-a3e8-c91af42bc4cd",
   "metadata": {},
   "source": [
    "## What is Apache Beam?\n",
    "\n",
    "Apache Beam is a flexible programming SDK for building data processing pipelines that can handle batch processing, stream processing, and parallel processing in one. Its unified model allows developers to define and execute abstract data workflows to be deployed on one of any number of different data processing engines, such as Apache Flink, Apache Spark, Google Cloud Dataflow, and Kafka.\n",
    "\n",
    "BEAM -> Batch + strEAM"
   ]
  },
  {
   "cell_type": "markdown",
   "id": "3badaa2d-3703-4a01-a1f1-dbeac309952b",
   "metadata": {},
   "source": [
    "## Apache Beam in a Glance\n",
    "\n",
    "![title](./image/learner_graph.png)"
   ]
  },
  {
   "cell_type": "markdown",
   "id": "31875f84-8458-4b3b-b3c7-80f4e95cde1e",
   "metadata": {},
   "source": [
    "## Basic Components\n",
    "\n",
    "### Pipeline\n",
    "A Pipeline encapsulates the entire data processing task, from start to finish. This includes reading input data, transforming that data, and writing output data.\n",
    "\n",
    "### PCollection\n",
    "A PCollection represents a distributed data set that your Beam pipeline operates on. The data set can be bounded, meaning it comes from a fixed source like a file, or unbounded, meaning it comes from a continuously updating source via a subscription or other mechanism. PCollections are the inputs and outputs for each step in your pipeline.\n",
    "\n",
    "### PTransform\n",
    "A PTransform represents a data processing operation, or a step, in your pipeline. Every PTransform takes one or more PCollection objects as the input, performs a processing function that you provide on the elements of that PCollection, and then produces zero or more output PCollection objects.\n",
    "\n",
    "### I/O transforms\n",
    "Beam comes with a number of “IOs” - library PTransforms that read or write data to various external storage systems."
   ]
  },
  {
   "cell_type": "markdown",
   "id": "d249d3ef-bc53-45bc-b7ac-e2737fb00d47",
   "metadata": {},
   "source": [
    "## Illustration for Pipeline, PCollection, and PTransform\n",
    "\n",
    "![title](./image/pcollection_ptransform.png)"
   ]
  },
  {
   "cell_type": "markdown",
   "id": "e10fba91-e9f7-46a8-ae05-13726f7f1e00",
   "metadata": {},
   "source": [
    "## Installation"
   ]
  },
  {
   "cell_type": "code",
   "execution_count": null,
   "id": "0a47914f-2dd1-4e50-8619-d7ba6955429c",
   "metadata": {},
   "outputs": [],
   "source": [
    "!python --version"
   ]
  },
  {
   "cell_type": "code",
   "execution_count": null,
   "id": "6487653d-40a2-492b-ba44-a3ae7c83e131",
   "metadata": {},
   "outputs": [],
   "source": [
    "!which python"
   ]
  },
  {
   "cell_type": "code",
   "execution_count": null,
   "id": "40652653-2b40-4278-954e-7c3e9a2b9ff4",
   "metadata": {},
   "outputs": [],
   "source": [
    "!pip install apache-beam\n",
    "!pip install apache-beam[gcp]"
   ]
  },
  {
   "cell_type": "markdown",
   "id": "f88f0125-63e4-422b-bc6b-51dba5ff5229",
   "metadata": {},
   "source": [
    "## Sample Dataset"
   ]
  },
  {
   "cell_type": "code",
   "execution_count": 10,
   "id": "b4c03713-ae8a-4562-8b8a-d73d91ccb381",
   "metadata": {},
   "outputs": [
    {
     "name": "stdout",
     "output_type": "stream",
     "text": [
      "149633CM,Marco,10,Accounts,1-01-2019\n",
      "212539MU,Rebekah,10,Accounts,1-01-2019\n",
      "231555ZZ,Itoe,10,Accounts,1-01-2019\n",
      "503996WI,Edouard,10,Accounts,1-01-2019\n",
      "704275DC,Kyle,10,Accounts,1-01-2019\n",
      "957149WC,Kyle,10,Accounts,1-01-2019\n",
      "241316NX,Kumiko,10,Accounts,1-01-2019\n",
      "796656IE,Gaston,10,Accounts,1-01-2019\n",
      "331593PS,Beryl,20,HR,1-01-2019\n",
      "560447WH,Olga,20,HR,1-01-2019\n",
      "222997TJ,Leslie,20,HR,1-01-2019\n",
      "171752SY,Mindy,20,HR,1-01-2019\n",
      "153636AS,Vicky,20,HR,1-01-2019\n",
      "745411HT,Richard,20,HR,1-01-2019\n",
      "298464HN,Kirk,20,HR,1-01-2019\n",
      "783950BW,Kaori,20,HR,1-01-2019\n",
      "892691AR,Beryl,20,HR,1-01-2019\n",
      "245668UZ,Oscar,20,HR,1-01-2019\n",
      "231206QD,Kumiko,30,Finance,1-01-2019\n",
      "357919KT,Wendy,30,Finance,1-01-2019\n"
     ]
    }
   ],
   "source": [
    "!{(\"head -n 20 ./example/dept_data.txt\")}"
   ]
  },
  {
   "cell_type": "markdown",
   "id": "a947b264-6cd0-4b3b-8e20-b0a8701a060e",
   "metadata": {},
   "source": [
    "## Case 1: Simple and Not So Useful Pipeline"
   ]
  },
  {
   "cell_type": "code",
   "execution_count": 11,
   "id": "24aae773-d4bd-4b35-9168-5f25882bbd33",
   "metadata": {},
   "outputs": [
    {
     "name": "stderr",
     "output_type": "stream",
     "text": [
      "WARNING:apache_beam.io.filebasedsink:Deleting 1 existing files in target path matching: -*-of-%(num_shards)05d\n"
     ]
    },
    {
     "data": {
      "text/plain": [
       "<apache_beam.runners.portability.fn_api_runner.fn_runner.RunnerResult at 0x7fd03090d0d0>"
      ]
     },
     "execution_count": 11,
     "metadata": {},
     "output_type": "execute_result"
    }
   ],
   "source": [
    "import apache_beam as beam\n",
    "\n",
    "p1 = beam.Pipeline()\n",
    "\n",
    "(\n",
    "    p1\n",
    "    | beam.io.ReadFromText(\"./example/dept_data.txt\")\n",
    "    | beam.io.WriteToText(\"./output/output_data\")\n",
    ")\n",
    "\n",
    "p1.run()"
   ]
  },
  {
   "cell_type": "code",
   "execution_count": 12,
   "id": "633ad37e-657e-4f8c-adb5-792959d0b2bb",
   "metadata": {},
   "outputs": [
    {
     "name": "stdout",
     "output_type": "stream",
     "text": [
      "149633CM,Marco,10,Accounts,1-01-2019\n",
      "212539MU,Rebekah,10,Accounts,1-01-2019\n",
      "231555ZZ,Itoe,10,Accounts,1-01-2019\n",
      "503996WI,Edouard,10,Accounts,1-01-2019\n",
      "704275DC,Kyle,10,Accounts,1-01-2019\n",
      "957149WC,Kyle,10,Accounts,1-01-2019\n",
      "241316NX,Kumiko,10,Accounts,1-01-2019\n",
      "796656IE,Gaston,10,Accounts,1-01-2019\n",
      "331593PS,Beryl,20,HR,1-01-2019\n",
      "560447WH,Olga,20,HR,1-01-2019\n",
      "222997TJ,Leslie,20,HR,1-01-2019\n",
      "171752SY,Mindy,20,HR,1-01-2019\n",
      "153636AS,Vicky,20,HR,1-01-2019\n",
      "745411HT,Richard,20,HR,1-01-2019\n",
      "298464HN,Kirk,20,HR,1-01-2019\n",
      "783950BW,Kaori,20,HR,1-01-2019\n",
      "892691AR,Beryl,20,HR,1-01-2019\n",
      "245668UZ,Oscar,20,HR,1-01-2019\n",
      "231206QD,Kumiko,30,Finance,1-01-2019\n",
      "357919KT,Wendy,30,Finance,1-01-2019\n"
     ]
    }
   ],
   "source": [
    "!{(\"head -n 20 ./output/output_data-00000-of-00001\")}"
   ]
  },
  {
   "cell_type": "markdown",
   "id": "a8d0739f-2bba-4d07-af03-fce704de66de",
   "metadata": {},
   "source": [
    "## Case 1.1: Simple and Not So Useful Pipeline, now with label"
   ]
  },
  {
   "cell_type": "code",
   "execution_count": 11,
   "id": "eaf100bd-cdea-42f0-8b53-9917aaf19878",
   "metadata": {},
   "outputs": [
    {
     "name": "stderr",
     "output_type": "stream",
     "text": [
      "WARNING:apache_beam.io.filebasedsink:Deleting 1 existing files in target path matching: -*-of-%(num_shards)05d\n"
     ]
    },
    {
     "data": {
      "text/plain": [
       "<apache_beam.runners.portability.fn_api_runner.fn_runner.RunnerResult at 0x7fd03090d0d0>"
      ]
     },
     "execution_count": 11,
     "metadata": {},
     "output_type": "execute_result"
    }
   ],
   "source": [
    "import apache_beam as beam\n",
    "\n",
    "p1 = beam.Pipeline()\n",
    "\n",
    "(\n",
    "    p1\n",
    "    | \"ReadFromText\" >> beam.io.ReadFromText(\"./example/dept_data.txt\")\n",
    "    | \"WriteOutput\" >> beam.io.WriteToText(\"./output/output_data\")\n",
    ")\n",
    "\n",
    "p1.run()"
   ]
  },
  {
   "cell_type": "code",
   "execution_count": 12,
   "id": "751f8941-2954-46a7-ae42-57659c815986",
   "metadata": {},
   "outputs": [
    {
     "name": "stdout",
     "output_type": "stream",
     "text": [
      "149633CM,Marco,10,Accounts,1-01-2019\n",
      "212539MU,Rebekah,10,Accounts,1-01-2019\n",
      "231555ZZ,Itoe,10,Accounts,1-01-2019\n",
      "503996WI,Edouard,10,Accounts,1-01-2019\n",
      "704275DC,Kyle,10,Accounts,1-01-2019\n",
      "957149WC,Kyle,10,Accounts,1-01-2019\n",
      "241316NX,Kumiko,10,Accounts,1-01-2019\n",
      "796656IE,Gaston,10,Accounts,1-01-2019\n",
      "331593PS,Beryl,20,HR,1-01-2019\n",
      "560447WH,Olga,20,HR,1-01-2019\n",
      "222997TJ,Leslie,20,HR,1-01-2019\n",
      "171752SY,Mindy,20,HR,1-01-2019\n",
      "153636AS,Vicky,20,HR,1-01-2019\n",
      "745411HT,Richard,20,HR,1-01-2019\n",
      "298464HN,Kirk,20,HR,1-01-2019\n",
      "783950BW,Kaori,20,HR,1-01-2019\n",
      "892691AR,Beryl,20,HR,1-01-2019\n",
      "245668UZ,Oscar,20,HR,1-01-2019\n",
      "231206QD,Kumiko,30,Finance,1-01-2019\n",
      "357919KT,Wendy,30,Finance,1-01-2019\n"
     ]
    }
   ],
   "source": [
    "!{(\"head -n 20 ./output/output_data-00000-of-00001\")}"
   ]
  },
  {
   "cell_type": "markdown",
   "id": "1e5acedb-1112-4c8c-a8a0-b4b6208fc243",
   "metadata": {},
   "source": [
    "## Case 2: Simple Pipeline with Simple Function"
   ]
  },
  {
   "cell_type": "code",
   "execution_count": 13,
   "id": "0527ea39-3020-4c5b-a3dc-b88734803eb0",
   "metadata": {},
   "outputs": [
    {
     "name": "stderr",
     "output_type": "stream",
     "text": [
      "WARNING:apache_beam.io.filebasedsink:Deleting 1 existing files in target path matching: -*-of-%(num_shards)05d\n"
     ]
    },
    {
     "data": {
      "text/plain": [
       "<apache_beam.runners.portability.fn_api_runner.fn_runner.RunnerResult at 0x7fd03089fbb0>"
      ]
     },
     "execution_count": 13,
     "metadata": {},
     "output_type": "execute_result"
    }
   ],
   "source": [
    "import apache_beam as beam\n",
    "\n",
    "\n",
    "def split_row(element):\n",
    "    return element.split(\",\")\n",
    "\n",
    "\n",
    "def filtering(element):\n",
    "    return element[3] == \"Accounts\"\n",
    "\n",
    "\n",
    "p1 = beam.Pipeline()\n",
    "\n",
    "(\n",
    "    p1\n",
    "    | \"ReadFromText\" >> beam.io.ReadFromText(\"./example/dept_data.txt\")\n",
    "    | \"SplitRecord\" >> beam.Map(split_row)\n",
    "    | \"FilterAccounts\" >> beam.Filter(filtering)\n",
    "    | \"WriteOutput\" >> beam.io.WriteToText(\"./output/output_data\")\n",
    ")\n",
    "\n",
    "p1.run()"
   ]
  },
  {
   "cell_type": "code",
   "execution_count": 14,
   "id": "6d647b7a-02e7-4def-aefe-25ea1ce3e8e9",
   "metadata": {},
   "outputs": [
    {
     "name": "stdout",
     "output_type": "stream",
     "text": [
      "['149633CM', 'Marco', '10', 'Accounts', '1-01-2019']\n",
      "['212539MU', 'Rebekah', '10', 'Accounts', '1-01-2019']\n",
      "['231555ZZ', 'Itoe', '10', 'Accounts', '1-01-2019']\n",
      "['503996WI', 'Edouard', '10', 'Accounts', '1-01-2019']\n",
      "['704275DC', 'Kyle', '10', 'Accounts', '1-01-2019']\n",
      "['957149WC', 'Kyle', '10', 'Accounts', '1-01-2019']\n",
      "['241316NX', 'Kumiko', '10', 'Accounts', '1-01-2019']\n",
      "['796656IE', 'Gaston', '10', 'Accounts', '1-01-2019']\n",
      "['149633CM', 'Marco', '10', 'Accounts', '2-01-2019']\n",
      "['212539MU', 'Rebekah', '10', 'Accounts', '2-01-2019']\n",
      "['231555ZZ', 'Itoe', '10', 'Accounts', '2-01-2019']\n",
      "['503996WI', 'Edouard', '10', 'Accounts', '2-01-2019']\n",
      "['704275DC', 'Kyle', '10', 'Accounts', '2-01-2019']\n",
      "['957149WC', 'Kyle', '10', 'Accounts', '2-01-2019']\n",
      "['241316NX', 'Kumiko', '10', 'Accounts', '2-01-2019']\n",
      "['796656IE', 'Gaston', '10', 'Accounts', '2-01-2019']\n",
      "['718737IX', 'Ayumi', '10', 'Accounts', '2-01-2019']\n",
      "['149633CM', 'Marco', '10', 'Accounts', '3-01-2019']\n",
      "['212539MU', 'Rebekah', '10', 'Accounts', '3-01-2019']\n",
      "['231555ZZ', 'Itoe', '10', 'Accounts', '3-01-2019']\n"
     ]
    }
   ],
   "source": [
    "!{(\"head -n 20 ./output/output_data-00000-of-00001\")}"
   ]
  },
  {
   "cell_type": "markdown",
   "id": "1b03b219-a5de-400b-a7cd-1126bde4fdf7",
   "metadata": {},
   "source": [
    "## Case 3: Simple Pipeline with Lambda Expression"
   ]
  },
  {
   "cell_type": "code",
   "execution_count": 15,
   "id": "61738af5-48cb-49a8-85c5-3c8cc833c8ae",
   "metadata": {},
   "outputs": [
    {
     "name": "stderr",
     "output_type": "stream",
     "text": [
      "WARNING:apache_beam.io.filebasedsink:Deleting 1 existing files in target path matching: -*-of-%(num_shards)05d\n"
     ]
    },
    {
     "data": {
      "text/plain": [
       "<apache_beam.runners.portability.fn_api_runner.fn_runner.RunnerResult at 0x7fd004768a30>"
      ]
     },
     "execution_count": 15,
     "metadata": {},
     "output_type": "execute_result"
    }
   ],
   "source": [
    "import apache_beam as beam\n",
    "\n",
    "p1 = beam.Pipeline()\n",
    "\n",
    "(\n",
    "    p1\n",
    "    | \"ReadFromText\" >> beam.io.ReadFromText(\"./example/dept_data.txt\")\n",
    "    | \"SplitRecord\" >> beam.Map(lambda record: record.split(\",\"))\n",
    "    | \"FilterAccounts\" >> beam.Filter(lambda record: record[3] == \"Accounts\")\n",
    "    | \"WriteOutput\" >> beam.io.WriteToText(\"./output/output_data\")\n",
    ")\n",
    "\n",
    "p1.run()"
   ]
  },
  {
   "cell_type": "code",
   "execution_count": 16,
   "id": "938c239e-3f9d-46f5-b443-aacf27589439",
   "metadata": {},
   "outputs": [
    {
     "name": "stdout",
     "output_type": "stream",
     "text": [
      "['149633CM', 'Marco', '10', 'Accounts', '1-01-2019']\n",
      "['212539MU', 'Rebekah', '10', 'Accounts', '1-01-2019']\n",
      "['231555ZZ', 'Itoe', '10', 'Accounts', '1-01-2019']\n",
      "['503996WI', 'Edouard', '10', 'Accounts', '1-01-2019']\n",
      "['704275DC', 'Kyle', '10', 'Accounts', '1-01-2019']\n",
      "['957149WC', 'Kyle', '10', 'Accounts', '1-01-2019']\n",
      "['241316NX', 'Kumiko', '10', 'Accounts', '1-01-2019']\n",
      "['796656IE', 'Gaston', '10', 'Accounts', '1-01-2019']\n",
      "['149633CM', 'Marco', '10', 'Accounts', '2-01-2019']\n",
      "['212539MU', 'Rebekah', '10', 'Accounts', '2-01-2019']\n",
      "['231555ZZ', 'Itoe', '10', 'Accounts', '2-01-2019']\n",
      "['503996WI', 'Edouard', '10', 'Accounts', '2-01-2019']\n",
      "['704275DC', 'Kyle', '10', 'Accounts', '2-01-2019']\n",
      "['957149WC', 'Kyle', '10', 'Accounts', '2-01-2019']\n",
      "['241316NX', 'Kumiko', '10', 'Accounts', '2-01-2019']\n",
      "['796656IE', 'Gaston', '10', 'Accounts', '2-01-2019']\n",
      "['718737IX', 'Ayumi', '10', 'Accounts', '2-01-2019']\n",
      "['149633CM', 'Marco', '10', 'Accounts', '3-01-2019']\n",
      "['212539MU', 'Rebekah', '10', 'Accounts', '3-01-2019']\n",
      "['231555ZZ', 'Itoe', '10', 'Accounts', '3-01-2019']\n"
     ]
    }
   ],
   "source": [
    "!{(\"head -n 20 ./output/output_data-00000-of-00001\")}"
   ]
  },
  {
   "cell_type": "markdown",
   "id": "af810c91-6eae-403a-b691-b6a5a5e465e2",
   "metadata": {},
   "source": [
    "## Case 4: Using Google Dataflow as the runner"
   ]
  },
  {
   "cell_type": "code",
   "execution_count": 15,
   "id": "8e43eda3-7b8c-42a1-937f-4eb9ef48a940",
   "metadata": {},
   "outputs": [
    {
     "name": "stderr",
     "output_type": "stream",
     "text": [
      "WARNING:apache_beam.io.filebasedsink:Deleting 1 existing files in target path matching: -*-of-%(num_shards)05d\n"
     ]
    },
    {
     "data": {
      "text/plain": [
       "<apache_beam.runners.portability.fn_api_runner.fn_runner.RunnerResult at 0x7fd004768a30>"
      ]
     },
     "execution_count": 15,
     "metadata": {},
     "output_type": "execute_result"
    }
   ],
   "source": [
    "import apache_beam as beam\n",
    "from apache_beam.options.pipeline_options import PipelineOptions\n",
    "\n",
    "pipeline_options = PipelineOptions(\n",
    "    runner='DataflowRunner',\n",
    "    project='my-project-id',\n",
    "    job_name='unique-job-name',\n",
    "    temp_location='gs://my-bucket/temp',\n",
    ")\n",
    "\n",
    "p1 = beam.Pipeline(pipeline_options)\n",
    "\n",
    "(\n",
    "    p1\n",
    "    | \"ReadFromText\" >> beam.io.ReadFromText(\"./example/dept_data.txt\")\n",
    "    | \"SplitRecord\" >> beam.Map(lambda record: record.split(\",\"))\n",
    "    | \"FilterAccounts\" >> beam.Filter(lambda record: record[3] == \"Accounts\")\n",
    "    | \"WriteOutput\" >> beam.io.WriteToText(\"./output/output_data\")\n",
    ")\n",
    "\n",
    "p1.run()"
   ]
  },
  {
   "cell_type": "markdown",
   "id": "3695f431-6862-4948-8baa-08b40e20992f",
   "metadata": {},
   "source": [
    "## Case 5: Simple Pipeline with CombinePerKey"
   ]
  },
  {
   "cell_type": "code",
   "execution_count": 20,
   "id": "93b34387-d36d-4e6f-b8e3-6d4864665f13",
   "metadata": {},
   "outputs": [
    {
     "name": "stderr",
     "output_type": "stream",
     "text": [
      "WARNING:apache_beam.io.filebasedsink:Deleting 1 existing files in target path matching: -*-of-%(num_shards)05d\n"
     ]
    },
    {
     "data": {
      "text/plain": [
       "<apache_beam.runners.portability.fn_api_runner.fn_runner.RunnerResult at 0x7fd02b73d3d0>"
      ]
     },
     "execution_count": 20,
     "metadata": {},
     "output_type": "execute_result"
    }
   ],
   "source": [
    "import apache_beam as beam\n",
    "\n",
    "p1 = beam.Pipeline()\n",
    "\n",
    "(\n",
    "    p1\n",
    "    | \"ReadFromText\" >> beam.io.ReadFromText(\"./example/dept_data.txt\")\n",
    "    | \"SplitRecord\" >> beam.Map(lambda record: record.split(\",\"))\n",
    "    | \"FilterAccounts\" >> beam.Filter(lambda record: record[3] == \"Accounts\")\n",
    "    | \"MapToKeyValue\" >> beam.Map(lambda record: (record[1], 1))\n",
    "    | \"CombineByKey\" >> beam.CombinePerKey(sum)\n",
    "    | \"WriteOutput\" >> beam.io.WriteToText(\"./output/output_data\")\n",
    ")\n",
    "\n",
    "p1.run()"
   ]
  },
  {
   "cell_type": "code",
   "execution_count": 18,
   "id": "2c0e22f6-867f-4e0e-9d0e-65b433ad5899",
   "metadata": {},
   "outputs": [
    {
     "name": "stdout",
     "output_type": "stream",
     "text": [
      "('Marco', 31)\n",
      "('Rebekah', 31)\n",
      "('Itoe', 31)\n",
      "('Edouard', 31)\n",
      "('Kyle', 62)\n",
      "('Kumiko', 31)\n",
      "('Gaston', 31)\n",
      "('Ayumi', 30)\n"
     ]
    }
   ],
   "source": [
    "!{(\"head -n 20 ./output/output_data-00000-of-00001\")}"
   ]
  },
  {
   "cell_type": "code",
   "execution_count": null,
   "id": "a26f09ca-f189-4127-b5b0-47cdcac2e88f",
   "metadata": {},
   "outputs": [],
   "source": []
  }
 ],
 "metadata": {
  "kernelspec": {
   "display_name": "Python 3 (ipykernel)",
   "language": "python",
   "name": "python3"
  },
  "language_info": {
   "codemirror_mode": {
    "name": "ipython",
    "version": 3
   },
   "file_extension": ".py",
   "mimetype": "text/x-python",
   "name": "python",
   "nbconvert_exporter": "python",
   "pygments_lexer": "ipython3",
   "version": "3.11.4"
  }
 },
 "nbformat": 4,
 "nbformat_minor": 5
}
