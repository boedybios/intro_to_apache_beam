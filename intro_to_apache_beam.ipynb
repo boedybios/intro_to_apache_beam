{
 "cells": [
  {
   "cell_type": "code",
   "execution_count": 1,
   "id": "5f3c498d",
   "metadata": {
    "slideshow": {
     "slide_type": "skip"
    }
   },
   "outputs": [
    {
     "data": {
      "text/plain": [
       "{'scroll': True, 'width': '100%', 'height': '100%'}"
      ]
     },
     "execution_count": 1,
     "metadata": {},
     "output_type": "execute_result"
    }
   ],
   "source": [
    "from notebook.services.config import ConfigManager\n",
    "cm = ConfigManager()\n",
    "cm.update('livereveal', {\n",
    "        'scroll': True,\n",
    "        'width': \"100%\",\n",
    "        'height': \"100%\",\n",
    "})"
   ]
  },
  {
   "cell_type": "markdown",
   "id": "6f40c2de-68bb-4346-b4c2-b8c079b62129",
   "metadata": {
    "slideshow": {
     "slide_type": "slide"
    }
   },
   "source": [
    "# Introduction to Apache Beam Python SDK & Google Dataflow\n",
    "\n",
    "![title](./image/beam_mascot.png)\n",
    "\n",
    "## prepared and presented by Setia Budi\n",
    "### This notebook is available on: [github.com/boedybios/intro_to_apache_beam](https://github.com/boedybios/intro_to_apache_beam)"
   ]
  },
  {
   "cell_type": "markdown",
   "id": "ddf49c82-984a-47ab-a3e8-c91af42bc4cd",
   "metadata": {
    "slideshow": {
     "slide_type": "slide"
    }
   },
   "source": [
    "## What is Apache Beam?\n",
    "\n",
    "- Apache Beam is a flexible programming SDK for building data processing pipelines that can handle batch processing, stream processing, and parallel processing in one. \n",
    "- Its unified model allows developers to define and execute abstract data workflows to be deployed on one of any number of different data processing engines, such as Apache Flink, Apache Spark, Google Cloud Dataflow, and Kafka.\n",
    "- BEAM -> Batch + strEAM"
   ]
  },
  {
   "cell_type": "markdown",
   "id": "3badaa2d-3703-4a01-a1f1-dbeac309952b",
   "metadata": {
    "slideshow": {
     "slide_type": "slide"
    }
   },
   "source": [
    "## Apache Beam in a Glance\n",
    "\n",
    "![title](./image/learner_graph.png)"
   ]
  },
  {
   "cell_type": "markdown",
   "id": "31875f84-8458-4b3b-b3c7-80f4e95cde1e",
   "metadata": {
    "slideshow": {
     "slide_type": "slide"
    }
   },
   "source": [
    "## Basic Components\n",
    "\n",
    "### Pipeline\n",
    "- A Pipeline encapsulates the entire data processing task, from start to finish. \n",
    "- This includes reading input data, transforming that data, and writing output data.\n",
    "\n",
    "### PCollection\n",
    "- A PCollection represents a distributed data set that your Beam pipeline operates on. \n",
    "- The data set can be bounded, meaning it comes from a fixed source like a file, or unbounded, meaning it comes from a continuously updating source via a subscription or other mechanism. \n",
    "- PCollections are the inputs and outputs for each step in your pipeline.\n",
    "\n",
    "### PTransform\n",
    "- A PTransform represents a data processing operation, or a step, in your pipeline. \n",
    "- Every PTransform takes one or more PCollection objects as the input, performs a processing function that you provide on the elements of that PCollection, and then produces zero or more output PCollection objects.\n",
    "\n",
    "### I/O Transforms\n",
    "- Beam comes with a number of “IOs” - library PTransforms that read or write data to various external storage systems."
   ]
  },
  {
   "cell_type": "markdown",
   "id": "d249d3ef-bc53-45bc-b7ac-e2737fb00d47",
   "metadata": {
    "slideshow": {
     "slide_type": "slide"
    }
   },
   "source": [
    "## Illustration for Pipeline, PCollection, and PTransform\n",
    "\n",
    "![title](./image/pcollection_ptransform.png)"
   ]
  },
  {
   "cell_type": "markdown",
   "id": "e10fba91-e9f7-46a8-ae05-13726f7f1e00",
   "metadata": {
    "slideshow": {
     "slide_type": "slide"
    }
   },
   "source": [
    "## Installation"
   ]
  },
  {
   "cell_type": "code",
   "execution_count": 2,
   "id": "0a47914f-2dd1-4e50-8619-d7ba6955429c",
   "metadata": {},
   "outputs": [
    {
     "name": "stdout",
     "output_type": "stream",
     "text": [
      "Python 3.9.18\r\n"
     ]
    }
   ],
   "source": [
    "!python --version"
   ]
  },
  {
   "cell_type": "code",
   "execution_count": 3,
   "id": "6487653d-40a2-492b-ba44-a3ae7c83e131",
   "metadata": {},
   "outputs": [
    {
     "name": "stdout",
     "output_type": "stream",
     "text": [
      "/home/boedybios/anaconda3/envs/apache_beam/bin/python\r\n"
     ]
    }
   ],
   "source": [
    "!which python"
   ]
  },
  {
   "cell_type": "code",
   "execution_count": null,
   "id": "40652653-2b40-4278-954e-7c3e9a2b9ff4",
   "metadata": {},
   "outputs": [],
   "source": [
    "# !pip install apache-beam\n",
    "# !pip install apache-beam[gcp]\n",
    "# !pip install pandas"
   ]
  },
  {
   "cell_type": "markdown",
   "id": "f88f0125-63e4-422b-bc6b-51dba5ff5229",
   "metadata": {
    "slideshow": {
     "slide_type": "slide"
    }
   },
   "source": [
    "## Sample Dataset"
   ]
  },
  {
   "cell_type": "code",
   "execution_count": 4,
   "id": "b4c03713-ae8a-4562-8b8a-d73d91ccb381",
   "metadata": {},
   "outputs": [
    {
     "name": "stdout",
     "output_type": "stream",
     "text": [
      "149633CM,Marco,10,Accounts,1-01-2019\r",
      "\r\n",
      "212539MU,Rebekah,10,Accounts,1-01-2019\r",
      "\r\n",
      "231555ZZ,Itoe,10,Accounts,1-01-2019\r",
      "\r\n",
      "503996WI,Edouard,10,Accounts,1-01-2019\r",
      "\r\n",
      "704275DC,Kyle,10,Accounts,1-01-2019\r",
      "\r\n",
      "957149WC,Kyle,10,Accounts,1-01-2019\r",
      "\r\n",
      "241316NX,Kumiko,10,Accounts,1-01-2019\r",
      "\r\n",
      "796656IE,Gaston,10,Accounts,1-01-2019\r",
      "\r\n",
      "331593PS,Beryl,20,HR,1-01-2019\r",
      "\r\n",
      "560447WH,Olga,20,HR,1-01-2019\r",
      "\r\n",
      "222997TJ,Leslie,20,HR,1-01-2019\r",
      "\r\n",
      "171752SY,Mindy,20,HR,1-01-2019\r",
      "\r\n",
      "153636AS,Vicky,20,HR,1-01-2019\r",
      "\r\n",
      "745411HT,Richard,20,HR,1-01-2019\r",
      "\r\n",
      "298464HN,Kirk,20,HR,1-01-2019\r",
      "\r\n",
      "783950BW,Kaori,20,HR,1-01-2019\r",
      "\r\n",
      "892691AR,Beryl,20,HR,1-01-2019\r",
      "\r\n",
      "245668UZ,Oscar,20,HR,1-01-2019\r",
      "\r\n",
      "231206QD,Kumiko,30,Finance,1-01-2019\r",
      "\r\n",
      "357919KT,Wendy,30,Finance,1-01-2019\r",
      "\r\n"
     ]
    }
   ],
   "source": [
    "!head -n 20 \"./example/dept_data.txt\""
   ]
  },
  {
   "cell_type": "markdown",
   "id": "a947b264-6cd0-4b3b-8e20-b0a8701a060e",
   "metadata": {
    "slideshow": {
     "slide_type": "slide"
    }
   },
   "source": [
    "## Case 1: Simple and Not So Useful Pipeline"
   ]
  },
  {
   "cell_type": "code",
   "execution_count": 5,
   "id": "24aae773-d4bd-4b35-9168-5f25882bbd33",
   "metadata": {
    "slideshow": {
     "slide_type": "-"
    }
   },
   "outputs": [
    {
     "data": {
      "application/javascript": [
       "\n",
       "        if (typeof window.interactive_beam_jquery == 'undefined') {\n",
       "          var jqueryScript = document.createElement('script');\n",
       "          jqueryScript.src = 'https://code.jquery.com/jquery-3.4.1.slim.min.js';\n",
       "          jqueryScript.type = 'text/javascript';\n",
       "          jqueryScript.onload = function() {\n",
       "            var datatableScript = document.createElement('script');\n",
       "            datatableScript.src = 'https://cdn.datatables.net/1.10.20/js/jquery.dataTables.min.js';\n",
       "            datatableScript.type = 'text/javascript';\n",
       "            datatableScript.onload = function() {\n",
       "              window.interactive_beam_jquery = jQuery.noConflict(true);\n",
       "              window.interactive_beam_jquery(document).ready(function($){\n",
       "                \n",
       "              });\n",
       "            }\n",
       "            document.head.appendChild(datatableScript);\n",
       "          };\n",
       "          document.head.appendChild(jqueryScript);\n",
       "        } else {\n",
       "          window.interactive_beam_jquery(document).ready(function($){\n",
       "            \n",
       "          });\n",
       "        }"
      ]
     },
     "metadata": {},
     "output_type": "display_data"
    },
    {
     "name": "stderr",
     "output_type": "stream",
     "text": [
      "WARNING:apache_beam.io.filebasedsink:Deleting 1 existing files in target path matching: -*-of-%(num_shards)05d\n"
     ]
    },
    {
     "data": {
      "text/plain": [
       "<apache_beam.runners.portability.fn_api_runner.fn_runner.RunnerResult at 0x7f4edef7fe80>"
      ]
     },
     "execution_count": 5,
     "metadata": {},
     "output_type": "execute_result"
    }
   ],
   "source": [
    "import apache_beam as beam\n",
    "\n",
    "p1 = beam.Pipeline()\n",
    "\n",
    "(\n",
    "    p1\n",
    "    | beam.io.ReadFromText(\"./example/dept_data.txt\")\n",
    "    | beam.io.WriteToText(\"./output/output_data\")\n",
    ")\n",
    "\n",
    "p1.run()"
   ]
  },
  {
   "cell_type": "code",
   "execution_count": 6,
   "id": "09a6e7ae",
   "metadata": {
    "slideshow": {
     "slide_type": "-"
    }
   },
   "outputs": [
    {
     "name": "stdout",
     "output_type": "stream",
     "text": [
      "total 32K\r\n",
      "-rw-rw-r-- 1 boedybios boedybios 32K Nov 30 22:18 output_data-00000-of-00001\r\n"
     ]
    }
   ],
   "source": [
    "!ls -l -h \"./output/\""
   ]
  },
  {
   "cell_type": "code",
   "execution_count": 7,
   "id": "77b417f1",
   "metadata": {
    "slideshow": {
     "slide_type": "-"
    }
   },
   "outputs": [
    {
     "name": "stdout",
     "output_type": "stream",
     "text": [
      "149633CM,Marco,10,Accounts,1-01-2019\r\n",
      "212539MU,Rebekah,10,Accounts,1-01-2019\r\n",
      "231555ZZ,Itoe,10,Accounts,1-01-2019\r\n",
      "503996WI,Edouard,10,Accounts,1-01-2019\r\n",
      "704275DC,Kyle,10,Accounts,1-01-2019\r\n",
      "957149WC,Kyle,10,Accounts,1-01-2019\r\n",
      "241316NX,Kumiko,10,Accounts,1-01-2019\r\n",
      "796656IE,Gaston,10,Accounts,1-01-2019\r\n",
      "331593PS,Beryl,20,HR,1-01-2019\r\n",
      "560447WH,Olga,20,HR,1-01-2019\r\n",
      "222997TJ,Leslie,20,HR,1-01-2019\r\n",
      "171752SY,Mindy,20,HR,1-01-2019\r\n",
      "153636AS,Vicky,20,HR,1-01-2019\r\n",
      "745411HT,Richard,20,HR,1-01-2019\r\n",
      "298464HN,Kirk,20,HR,1-01-2019\r\n",
      "783950BW,Kaori,20,HR,1-01-2019\r\n",
      "892691AR,Beryl,20,HR,1-01-2019\r\n",
      "245668UZ,Oscar,20,HR,1-01-2019\r\n",
      "231206QD,Kumiko,30,Finance,1-01-2019\r\n",
      "357919KT,Wendy,30,Finance,1-01-2019\r\n"
     ]
    }
   ],
   "source": [
    "!head -n 20 \"./output/output_data-00000-of-00001\""
   ]
  },
  {
   "cell_type": "markdown",
   "id": "a8d0739f-2bba-4d07-af03-fce704de66de",
   "metadata": {
    "slideshow": {
     "slide_type": "slide"
    }
   },
   "source": [
    "## Case 1.1: Simple and Not So Useful Pipeline, now with label"
   ]
  },
  {
   "cell_type": "code",
   "execution_count": 8,
   "id": "eaf100bd-cdea-42f0-8b53-9917aaf19878",
   "metadata": {},
   "outputs": [
    {
     "name": "stderr",
     "output_type": "stream",
     "text": [
      "WARNING:apache_beam.io.filebasedsink:Deleting 1 existing files in target path matching: -*-of-%(num_shards)05d\n"
     ]
    },
    {
     "data": {
      "text/plain": [
       "<apache_beam.runners.portability.fn_api_runner.fn_runner.RunnerResult at 0x7f4f0d187430>"
      ]
     },
     "execution_count": 8,
     "metadata": {},
     "output_type": "execute_result"
    }
   ],
   "source": [
    "import apache_beam as beam\n",
    "\n",
    "p1 = beam.Pipeline()\n",
    "\n",
    "(\n",
    "    p1\n",
    "    | \"ReadFromText\" >> beam.io.ReadFromText(\"./example/dept_data.txt\")\n",
    "    | \"WriteOutput\" >> beam.io.WriteToText(\"./output/output_data\")\n",
    ")\n",
    "\n",
    "p1.run()"
   ]
  },
  {
   "cell_type": "code",
   "execution_count": 9,
   "id": "2600505b",
   "metadata": {},
   "outputs": [
    {
     "name": "stdout",
     "output_type": "stream",
     "text": [
      "total 32K\r\n",
      "-rw-rw-r-- 1 boedybios boedybios 32K Nov 30 22:18 output_data-00000-of-00001\r\n"
     ]
    }
   ],
   "source": [
    "!ls -l -h \"./output/\""
   ]
  },
  {
   "cell_type": "code",
   "execution_count": 10,
   "id": "751f8941-2954-46a7-ae42-57659c815986",
   "metadata": {},
   "outputs": [
    {
     "name": "stdout",
     "output_type": "stream",
     "text": [
      "149633CM,Marco,10,Accounts,1-01-2019\r\n",
      "212539MU,Rebekah,10,Accounts,1-01-2019\r\n",
      "231555ZZ,Itoe,10,Accounts,1-01-2019\r\n",
      "503996WI,Edouard,10,Accounts,1-01-2019\r\n",
      "704275DC,Kyle,10,Accounts,1-01-2019\r\n",
      "957149WC,Kyle,10,Accounts,1-01-2019\r\n",
      "241316NX,Kumiko,10,Accounts,1-01-2019\r\n",
      "796656IE,Gaston,10,Accounts,1-01-2019\r\n",
      "331593PS,Beryl,20,HR,1-01-2019\r\n",
      "560447WH,Olga,20,HR,1-01-2019\r\n",
      "222997TJ,Leslie,20,HR,1-01-2019\r\n",
      "171752SY,Mindy,20,HR,1-01-2019\r\n",
      "153636AS,Vicky,20,HR,1-01-2019\r\n",
      "745411HT,Richard,20,HR,1-01-2019\r\n",
      "298464HN,Kirk,20,HR,1-01-2019\r\n",
      "783950BW,Kaori,20,HR,1-01-2019\r\n",
      "892691AR,Beryl,20,HR,1-01-2019\r\n",
      "245668UZ,Oscar,20,HR,1-01-2019\r\n",
      "231206QD,Kumiko,30,Finance,1-01-2019\r\n",
      "357919KT,Wendy,30,Finance,1-01-2019\r\n"
     ]
    }
   ],
   "source": [
    "!head -n 20 \"./output/output_data-00000-of-00001\""
   ]
  },
  {
   "cell_type": "markdown",
   "id": "1e5acedb-1112-4c8c-a8a0-b4b6208fc243",
   "metadata": {
    "slideshow": {
     "slide_type": "slide"
    }
   },
   "source": [
    "## Case 2: Simple Pipeline with Simple Filter Transform"
   ]
  },
  {
   "cell_type": "code",
   "execution_count": 11,
   "id": "0527ea39-3020-4c5b-a3dc-b88734803eb0",
   "metadata": {
    "slideshow": {
     "slide_type": "-"
    }
   },
   "outputs": [
    {
     "name": "stderr",
     "output_type": "stream",
     "text": [
      "WARNING:apache_beam.io.filebasedsink:Deleting 1 existing files in target path matching: -*-of-%(num_shards)05d\n"
     ]
    },
    {
     "data": {
      "text/plain": [
       "<apache_beam.runners.portability.fn_api_runner.fn_runner.RunnerResult at 0x7f4edf7cb9d0>"
      ]
     },
     "execution_count": 11,
     "metadata": {},
     "output_type": "execute_result"
    }
   ],
   "source": [
    "import apache_beam as beam\n",
    "\n",
    "\n",
    "def split_row(element):\n",
    "    return element.split(\",\")\n",
    "\n",
    "\n",
    "def is_accounts(element):\n",
    "    return element[3] == \"Accounts\"\n",
    "\n",
    "\n",
    "p1 = beam.Pipeline()\n",
    "\n",
    "(\n",
    "    p1\n",
    "    | \"ReadFromText\" >> beam.io.ReadFromText(\"./example/dept_data.txt\")\n",
    "    | \"SplitRecord\" >> beam.Map(split_row)\n",
    "    | \"FilterAccounts\" >> beam.Filter(is_accounts)\n",
    "    | \"WriteOutput\" >> beam.io.WriteToText(\"./output/output_data\")\n",
    ")\n",
    "\n",
    "p1.run()"
   ]
  },
  {
   "cell_type": "code",
   "execution_count": 12,
   "id": "4968c430",
   "metadata": {
    "slideshow": {
     "slide_type": "-"
    }
   },
   "outputs": [
    {
     "name": "stdout",
     "output_type": "stream",
     "text": [
      "total 16K\r\n",
      "-rw-rw-r-- 1 boedybios boedybios 15K Nov 30 22:18 output_data-00000-of-00001\r\n"
     ]
    }
   ],
   "source": [
    "!ls -l -h \"./output/\""
   ]
  },
  {
   "cell_type": "code",
   "execution_count": 13,
   "id": "6d647b7a-02e7-4def-aefe-25ea1ce3e8e9",
   "metadata": {
    "slideshow": {
     "slide_type": "-"
    }
   },
   "outputs": [
    {
     "name": "stdout",
     "output_type": "stream",
     "text": [
      "['149633CM', 'Marco', '10', 'Accounts', '1-01-2019']\r\n",
      "['212539MU', 'Rebekah', '10', 'Accounts', '1-01-2019']\r\n",
      "['231555ZZ', 'Itoe', '10', 'Accounts', '1-01-2019']\r\n",
      "['503996WI', 'Edouard', '10', 'Accounts', '1-01-2019']\r\n",
      "['704275DC', 'Kyle', '10', 'Accounts', '1-01-2019']\r\n",
      "['957149WC', 'Kyle', '10', 'Accounts', '1-01-2019']\r\n",
      "['241316NX', 'Kumiko', '10', 'Accounts', '1-01-2019']\r\n",
      "['796656IE', 'Gaston', '10', 'Accounts', '1-01-2019']\r\n",
      "['149633CM', 'Marco', '10', 'Accounts', '2-01-2019']\r\n",
      "['212539MU', 'Rebekah', '10', 'Accounts', '2-01-2019']\r\n",
      "['231555ZZ', 'Itoe', '10', 'Accounts', '2-01-2019']\r\n",
      "['503996WI', 'Edouard', '10', 'Accounts', '2-01-2019']\r\n",
      "['704275DC', 'Kyle', '10', 'Accounts', '2-01-2019']\r\n",
      "['957149WC', 'Kyle', '10', 'Accounts', '2-01-2019']\r\n",
      "['241316NX', 'Kumiko', '10', 'Accounts', '2-01-2019']\r\n",
      "['796656IE', 'Gaston', '10', 'Accounts', '2-01-2019']\r\n",
      "['718737IX', 'Ayumi', '10', 'Accounts', '2-01-2019']\r\n",
      "['149633CM', 'Marco', '10', 'Accounts', '3-01-2019']\r\n",
      "['212539MU', 'Rebekah', '10', 'Accounts', '3-01-2019']\r\n",
      "['231555ZZ', 'Itoe', '10', 'Accounts', '3-01-2019']\r\n"
     ]
    }
   ],
   "source": [
    "!head -n 20 \"./output/output_data-00000-of-00001\""
   ]
  },
  {
   "cell_type": "markdown",
   "id": "1b03b219-a5de-400b-a7cd-1126bde4fdf7",
   "metadata": {
    "slideshow": {
     "slide_type": "slide"
    }
   },
   "source": [
    "## Case 3: Simple Filter Transform using Lambda Expression"
   ]
  },
  {
   "cell_type": "code",
   "execution_count": 14,
   "id": "61738af5-48cb-49a8-85c5-3c8cc833c8ae",
   "metadata": {},
   "outputs": [
    {
     "name": "stderr",
     "output_type": "stream",
     "text": [
      "WARNING:apache_beam.io.filebasedsink:Deleting 1 existing files in target path matching: -*-of-%(num_shards)05d\n"
     ]
    },
    {
     "data": {
      "text/plain": [
       "<apache_beam.runners.portability.fn_api_runner.fn_runner.RunnerResult at 0x7f4ee070e970>"
      ]
     },
     "execution_count": 14,
     "metadata": {},
     "output_type": "execute_result"
    }
   ],
   "source": [
    "import apache_beam as beam\n",
    "\n",
    "p1 = beam.Pipeline()\n",
    "\n",
    "(\n",
    "    p1\n",
    "    | \"ReadFromText\" >> beam.io.ReadFromText(\"./example/dept_data.txt\")\n",
    "    | \"SplitRecord\" >> beam.Map(lambda record: record.split(\",\"))\n",
    "    | \"FilterAccounts\" >> beam.Filter(lambda record: record[3] == \"Accounts\")\n",
    "    | \"WriteOutput\" >> beam.io.WriteToText(\"./output/output_data\")\n",
    ")\n",
    "\n",
    "p1.run()"
   ]
  },
  {
   "cell_type": "code",
   "execution_count": 15,
   "id": "8331c5c4",
   "metadata": {},
   "outputs": [
    {
     "name": "stdout",
     "output_type": "stream",
     "text": [
      "total 16K\r\n",
      "-rw-rw-r-- 1 boedybios boedybios 15K Nov 30 22:19 output_data-00000-of-00001\r\n"
     ]
    }
   ],
   "source": [
    "!ls -l -h \"./output/\""
   ]
  },
  {
   "cell_type": "code",
   "execution_count": 16,
   "id": "938c239e-3f9d-46f5-b443-aacf27589439",
   "metadata": {},
   "outputs": [
    {
     "name": "stdout",
     "output_type": "stream",
     "text": [
      "['149633CM', 'Marco', '10', 'Accounts', '1-01-2019']\r\n",
      "['212539MU', 'Rebekah', '10', 'Accounts', '1-01-2019']\r\n",
      "['231555ZZ', 'Itoe', '10', 'Accounts', '1-01-2019']\r\n",
      "['503996WI', 'Edouard', '10', 'Accounts', '1-01-2019']\r\n",
      "['704275DC', 'Kyle', '10', 'Accounts', '1-01-2019']\r\n",
      "['957149WC', 'Kyle', '10', 'Accounts', '1-01-2019']\r\n",
      "['241316NX', 'Kumiko', '10', 'Accounts', '1-01-2019']\r\n",
      "['796656IE', 'Gaston', '10', 'Accounts', '1-01-2019']\r\n",
      "['149633CM', 'Marco', '10', 'Accounts', '2-01-2019']\r\n",
      "['212539MU', 'Rebekah', '10', 'Accounts', '2-01-2019']\r\n",
      "['231555ZZ', 'Itoe', '10', 'Accounts', '2-01-2019']\r\n",
      "['503996WI', 'Edouard', '10', 'Accounts', '2-01-2019']\r\n",
      "['704275DC', 'Kyle', '10', 'Accounts', '2-01-2019']\r\n",
      "['957149WC', 'Kyle', '10', 'Accounts', '2-01-2019']\r\n",
      "['241316NX', 'Kumiko', '10', 'Accounts', '2-01-2019']\r\n",
      "['796656IE', 'Gaston', '10', 'Accounts', '2-01-2019']\r\n",
      "['718737IX', 'Ayumi', '10', 'Accounts', '2-01-2019']\r\n",
      "['149633CM', 'Marco', '10', 'Accounts', '3-01-2019']\r\n",
      "['212539MU', 'Rebekah', '10', 'Accounts', '3-01-2019']\r\n",
      "['231555ZZ', 'Itoe', '10', 'Accounts', '3-01-2019']\r\n"
     ]
    }
   ],
   "source": [
    "!head -n 20 \"./output/output_data-00000-of-00001\""
   ]
  },
  {
   "cell_type": "markdown",
   "id": "af810c91-6eae-403a-b691-b6a5a5e465e2",
   "metadata": {
    "slideshow": {
     "slide_type": "slide"
    }
   },
   "source": [
    "## Case 4: Using Google Dataflow as the runner"
   ]
  },
  {
   "cell_type": "code",
   "execution_count": null,
   "id": "8e43eda3-7b8c-42a1-937f-4eb9ef48a940",
   "metadata": {},
   "outputs": [],
   "source": [
    "import apache_beam as beam\n",
    "from apache_beam.options.pipeline_options import PipelineOptions\n",
    "\n",
    "pipeline_options = PipelineOptions(\n",
    "    runner='DataflowRunner',\n",
    "    project='my-project-id',\n",
    "    job_name='unique-job-name',\n",
    "    temp_location='gs://my-bucket/temp',\n",
    ")\n",
    "\n",
    "p1 = beam.Pipeline(pipeline_options)\n",
    "\n",
    "(\n",
    "    p1\n",
    "    | \"ReadFromText\" >> beam.io.ReadFromText(\"./example/dept_data.txt\")\n",
    "    | \"SplitRecord\" >> beam.Map(lambda record: record.split(\",\"))\n",
    "    | \"FilterAccounts\" >> beam.Filter(lambda record: record[3] == \"Accounts\")\n",
    "    | \"WriteOutput\" >> beam.io.WriteToText(\"./output/output_data\")\n",
    ")\n",
    "\n",
    "p1.run()"
   ]
  },
  {
   "cell_type": "markdown",
   "id": "c01c7b6b-288e-4ee6-9822-75e65ff8ca2c",
   "metadata": {
    "slideshow": {
     "slide_type": "slide"
    }
   },
   "source": [
    "## Case 5: Filter Transform with multiple arguments"
   ]
  },
  {
   "cell_type": "code",
   "execution_count": 17,
   "id": "73f21a2d-f5a2-4709-9c76-a0dd13398279",
   "metadata": {},
   "outputs": [
    {
     "name": "stderr",
     "output_type": "stream",
     "text": [
      "WARNING:apache_beam.io.filebasedsink:Deleting 1 existing files in target path matching: -*-of-%(num_shards)05d\n"
     ]
    },
    {
     "data": {
      "text/plain": [
       "<apache_beam.runners.portability.fn_api_runner.fn_runner.RunnerResult at 0x7f4f0d15ad00>"
      ]
     },
     "execution_count": 17,
     "metadata": {},
     "output_type": "execute_result"
    }
   ],
   "source": [
    "import apache_beam as beam\n",
    "\n",
    "\n",
    "def split_row(element):\n",
    "    return element.split(\",\")   \n",
    "\n",
    "\n",
    "def has_role(element, role):\n",
    "    return element[3] == role\n",
    "\n",
    "\n",
    "p1 = beam.Pipeline()\n",
    "\n",
    "(\n",
    "    p1\n",
    "    | \"ReadFromText\" >> beam.io.ReadFromText(\"./example/dept_data.txt\")\n",
    "    | \"SplitRecord\" >> beam.Map(split_row)\n",
    "    | \"FilterAccounts\" >> beam.Filter(has_role, \"Accounts\")\n",
    "#     | \"FilterHR\" >> beam.Filter(has_role, \"HR\")\n",
    "    | \"WriteOutput\" >> beam.io.WriteToText(\"./output/output_data\")\n",
    ")\n",
    "\n",
    "p1.run()"
   ]
  },
  {
   "cell_type": "code",
   "execution_count": 18,
   "id": "a3eca50b",
   "metadata": {},
   "outputs": [
    {
     "name": "stdout",
     "output_type": "stream",
     "text": [
      "total 16K\r\n",
      "-rw-rw-r-- 1 boedybios boedybios 15K Nov 30 22:19 output_data-00000-of-00001\r\n"
     ]
    }
   ],
   "source": [
    "!ls -l -h \"./output/\""
   ]
  },
  {
   "cell_type": "code",
   "execution_count": 19,
   "id": "04dc52f8-5837-4533-ad31-9ba93ba0270c",
   "metadata": {},
   "outputs": [
    {
     "name": "stdout",
     "output_type": "stream",
     "text": [
      "['149633CM', 'Marco', '10', 'Accounts', '1-01-2019']\r\n",
      "['212539MU', 'Rebekah', '10', 'Accounts', '1-01-2019']\r\n",
      "['231555ZZ', 'Itoe', '10', 'Accounts', '1-01-2019']\r\n",
      "['503996WI', 'Edouard', '10', 'Accounts', '1-01-2019']\r\n",
      "['704275DC', 'Kyle', '10', 'Accounts', '1-01-2019']\r\n",
      "['957149WC', 'Kyle', '10', 'Accounts', '1-01-2019']\r\n",
      "['241316NX', 'Kumiko', '10', 'Accounts', '1-01-2019']\r\n",
      "['796656IE', 'Gaston', '10', 'Accounts', '1-01-2019']\r\n",
      "['149633CM', 'Marco', '10', 'Accounts', '2-01-2019']\r\n",
      "['212539MU', 'Rebekah', '10', 'Accounts', '2-01-2019']\r\n",
      "['231555ZZ', 'Itoe', '10', 'Accounts', '2-01-2019']\r\n",
      "['503996WI', 'Edouard', '10', 'Accounts', '2-01-2019']\r\n",
      "['704275DC', 'Kyle', '10', 'Accounts', '2-01-2019']\r\n",
      "['957149WC', 'Kyle', '10', 'Accounts', '2-01-2019']\r\n",
      "['241316NX', 'Kumiko', '10', 'Accounts', '2-01-2019']\r\n",
      "['796656IE', 'Gaston', '10', 'Accounts', '2-01-2019']\r\n",
      "['718737IX', 'Ayumi', '10', 'Accounts', '2-01-2019']\r\n",
      "['149633CM', 'Marco', '10', 'Accounts', '3-01-2019']\r\n",
      "['212539MU', 'Rebekah', '10', 'Accounts', '3-01-2019']\r\n",
      "['231555ZZ', 'Itoe', '10', 'Accounts', '3-01-2019']\r\n"
     ]
    }
   ],
   "source": [
    "!head -n 20 \"./output/output_data-00000-of-00001\""
   ]
  },
  {
   "cell_type": "markdown",
   "id": "93d66f41-3a9a-4eb5-bdea-aa22567208b3",
   "metadata": {
    "slideshow": {
     "slide_type": "slide"
    }
   },
   "source": [
    "## Case 6: Simple Pipeline with Simple Aggregation Transform\n",
    "###  `Count.Globally`"
   ]
  },
  {
   "cell_type": "code",
   "execution_count": 20,
   "id": "333abd5e-d969-4aa8-bd17-1f8ddbe0c599",
   "metadata": {},
   "outputs": [
    {
     "name": "stdout",
     "output_type": "stream",
     "text": [
      "278\n"
     ]
    },
    {
     "data": {
      "text/plain": [
       "<apache_beam.runners.portability.fn_api_runner.fn_runner.RunnerResult at 0x7f4edef7ba60>"
      ]
     },
     "execution_count": 20,
     "metadata": {},
     "output_type": "execute_result"
    }
   ],
   "source": [
    "import apache_beam as beam\n",
    "\n",
    "p1 = beam.Pipeline()\n",
    "\n",
    "(\n",
    "    p1\n",
    "    | \"ReadFromText\" >> beam.io.ReadFromText(\"./example/dept_data.txt\")\n",
    "    | \"SplitRecord\" >> beam.Map(lambda record: record.split(\",\"))\n",
    "    | \"FilterAccounts\" >> beam.Filter(lambda record: record[3] == \"Accounts\")\n",
    "    | \"Count all elements\" >> beam.combiners.Count.Globally()\n",
    "    | \"Print result\" >> beam.Map(print)\n",
    ")\n",
    "\n",
    "p1.run()"
   ]
  },
  {
   "cell_type": "markdown",
   "id": "2afb644b-32a0-4107-9173-cb269b0ffc2c",
   "metadata": {
    "slideshow": {
     "slide_type": "slide"
    }
   },
   "source": [
    "## Case 7: Simple Pipeline with Simple Aggregation Transform\n",
    "###  `Count.PerElement`"
   ]
  },
  {
   "cell_type": "code",
   "execution_count": 21,
   "id": "ce32918e-952c-4dcc-b5af-7d1375de6c07",
   "metadata": {},
   "outputs": [
    {
     "name": "stdout",
     "output_type": "stream",
     "text": [
      "('Accounts', 278)\n",
      "('HR', 310)\n",
      "('Finance', 310)\n"
     ]
    },
    {
     "data": {
      "text/plain": [
       "<apache_beam.runners.portability.fn_api_runner.fn_runner.RunnerResult at 0x7f4f0d10eca0>"
      ]
     },
     "execution_count": 21,
     "metadata": {},
     "output_type": "execute_result"
    }
   ],
   "source": [
    "import apache_beam as beam\n",
    "\n",
    "p1 = beam.Pipeline()\n",
    "\n",
    "(\n",
    "    p1\n",
    "    | \"ReadFromText\" >> beam.io.ReadFromText(\"./example/dept_data.txt\")\n",
    "    | \"SplitRecord\" >> beam.Map(lambda record: record.split(\",\"))\n",
    "    | \"Extract role column\" >> beam.Map(lambda record: (record[3]))\n",
    "    | \"Count all elements\" >> beam.combiners.Count.PerElement()\n",
    "    | \"Print result\" >> beam.Map(print)\n",
    ")\n",
    "\n",
    "p1.run()"
   ]
  },
  {
   "cell_type": "markdown",
   "id": "adadc95b-4ce6-47c1-ad3b-fec250847e43",
   "metadata": {
    "slideshow": {
     "slide_type": "slide"
    }
   },
   "source": [
    "## Case 8: Adding key for each element using `WithKeys`"
   ]
  },
  {
   "cell_type": "code",
   "execution_count": 22,
   "id": "0558d675-ea0d-4973-a47a-7f5213e97003",
   "metadata": {
    "slideshow": {
     "slide_type": "-"
    }
   },
   "outputs": [
    {
     "name": "stderr",
     "output_type": "stream",
     "text": [
      "WARNING:apache_beam.io.filebasedsink:Deleting 1 existing files in target path matching: -*-of-%(num_shards)05d\n"
     ]
    },
    {
     "data": {
      "text/plain": [
       "<apache_beam.runners.portability.fn_api_runner.fn_runner.RunnerResult at 0x7f4f0d05bdf0>"
      ]
     },
     "execution_count": 22,
     "metadata": {},
     "output_type": "execute_result"
    }
   ],
   "source": [
    "import apache_beam as beam\n",
    "\n",
    "p1 = beam.Pipeline()\n",
    "\n",
    "(\n",
    "    p1\n",
    "    | \"ReadFromText\" >> beam.io.ReadFromText(\"./example/dept_data.txt\")\n",
    "    | \"SplitRecord\" >> beam.Map(lambda record: record.split(\",\"))\n",
    "    | \"AddKey\" >>  beam.WithKeys(lambda record: record[3])\n",
    "    | \"WriteOutput\" >> beam.io.WriteToText(\"./output/output_data\")\n",
    ")\n",
    "\n",
    "p1.run()"
   ]
  },
  {
   "cell_type": "code",
   "execution_count": 23,
   "id": "ebdea835-a475-4daf-9c77-03cbac1e52fb",
   "metadata": {},
   "outputs": [
    {
     "name": "stdout",
     "output_type": "stream",
     "text": [
      "total 56K\r\n",
      "-rw-rw-r-- 1 boedybios boedybios 56K Nov 30 22:19 output_data-00000-of-00001\r\n"
     ]
    }
   ],
   "source": [
    "!ls -l -h \"./output/\""
   ]
  },
  {
   "cell_type": "code",
   "execution_count": 24,
   "id": "01b50c37",
   "metadata": {},
   "outputs": [
    {
     "name": "stdout",
     "output_type": "stream",
     "text": [
      "('Accounts', ['149633CM', 'Marco', '10', 'Accounts', '1-01-2019'])\r\n",
      "('Accounts', ['212539MU', 'Rebekah', '10', 'Accounts', '1-01-2019'])\r\n",
      "('Accounts', ['231555ZZ', 'Itoe', '10', 'Accounts', '1-01-2019'])\r\n",
      "('Accounts', ['503996WI', 'Edouard', '10', 'Accounts', '1-01-2019'])\r\n",
      "('Accounts', ['704275DC', 'Kyle', '10', 'Accounts', '1-01-2019'])\r\n",
      "('Accounts', ['957149WC', 'Kyle', '10', 'Accounts', '1-01-2019'])\r\n",
      "('Accounts', ['241316NX', 'Kumiko', '10', 'Accounts', '1-01-2019'])\r\n",
      "('Accounts', ['796656IE', 'Gaston', '10', 'Accounts', '1-01-2019'])\r\n",
      "('HR', ['331593PS', 'Beryl', '20', 'HR', '1-01-2019'])\r\n",
      "('HR', ['560447WH', 'Olga', '20', 'HR', '1-01-2019'])\r\n",
      "('HR', ['222997TJ', 'Leslie', '20', 'HR', '1-01-2019'])\r\n",
      "('HR', ['171752SY', 'Mindy', '20', 'HR', '1-01-2019'])\r\n",
      "('HR', ['153636AS', 'Vicky', '20', 'HR', '1-01-2019'])\r\n",
      "('HR', ['745411HT', 'Richard', '20', 'HR', '1-01-2019'])\r\n",
      "('HR', ['298464HN', 'Kirk', '20', 'HR', '1-01-2019'])\r\n",
      "('HR', ['783950BW', 'Kaori', '20', 'HR', '1-01-2019'])\r\n",
      "('HR', ['892691AR', 'Beryl', '20', 'HR', '1-01-2019'])\r\n",
      "('HR', ['245668UZ', 'Oscar', '20', 'HR', '1-01-2019'])\r\n",
      "('Finance', ['231206QD', 'Kumiko', '30', 'Finance', '1-01-2019'])\r\n",
      "('Finance', ['357919KT', 'Wendy', '30', 'Finance', '1-01-2019'])\r\n"
     ]
    }
   ],
   "source": [
    "!head -n 20 \"./output/output_data-00000-of-00001\""
   ]
  },
  {
   "cell_type": "markdown",
   "id": "e0b1a8ab-977b-458e-8d48-7280db578744",
   "metadata": {
    "slideshow": {
     "slide_type": "slide"
    }
   },
   "source": [
    "## Case 9: Simple Pipeline with Simple Aggregation Transform\n",
    "###  `Count.PerKey`"
   ]
  },
  {
   "cell_type": "code",
   "execution_count": 26,
   "id": "aae39ed1-ecf2-4ed0-bdc1-3965aa511767",
   "metadata": {},
   "outputs": [
    {
     "name": "stdout",
     "output_type": "stream",
     "text": [
      "('Accounts', 278)\n",
      "('HR', 310)\n",
      "('Finance', 310)\n"
     ]
    },
    {
     "data": {
      "text/plain": [
       "<apache_beam.runners.portability.fn_api_runner.fn_runner.RunnerResult at 0x7f4f0d068250>"
      ]
     },
     "execution_count": 26,
     "metadata": {},
     "output_type": "execute_result"
    }
   ],
   "source": [
    "import apache_beam as beam\n",
    "\n",
    "p1 = beam.Pipeline()\n",
    "\n",
    "(\n",
    "    p1\n",
    "    | \"ReadFromText\" >> beam.io.ReadFromText(\"./example/dept_data.txt\")\n",
    "    | \"SplitRecord\" >> beam.Map(lambda record: record.split(\",\"))\n",
    "    | \"AddKey\" >>  beam.WithKeys(lambda record: record[3])\n",
    "    | \"Count elements per key\" >> beam.combiners.Count.PerKey()\n",
    "    | \"Print result\" >> beam.Map(print)\n",
    ")\n",
    "\n",
    "p1.run()"
   ]
  },
  {
   "cell_type": "markdown",
   "id": "f3399cd3-60b8-491d-adaa-1a4e792572d2",
   "metadata": {
    "slideshow": {
     "slide_type": "slide"
    }
   },
   "source": [
    "## Case 10: Simple Pipeline with Simple Aggregation Transform\n",
    "###  `CombineGlobally(sum)`, `CombineGlobally(min)`, `CombineGlobally(max)`"
   ]
  },
  {
   "cell_type": "code",
   "execution_count": 27,
   "id": "687b47f2-8116-42c4-a1c2-8f126f966ac3",
   "metadata": {},
   "outputs": [
    {
     "name": "stdout",
     "output_type": "stream",
     "text": [
      "18280\n"
     ]
    },
    {
     "data": {
      "text/plain": [
       "<apache_beam.runners.portability.fn_api_runner.fn_runner.RunnerResult at 0x7f4f0cfde580>"
      ]
     },
     "execution_count": 27,
     "metadata": {},
     "output_type": "execute_result"
    }
   ],
   "source": [
    "import apache_beam as beam\n",
    "\n",
    "p1 = beam.Pipeline()\n",
    "\n",
    "(\n",
    "    p1\n",
    "    | \"ReadFromText\" >> beam.io.ReadFromText(\"./example/dept_data.txt\")\n",
    "    | \"SplitRecord\" >> beam.Map(lambda record: record.split(\",\"))\n",
    "    | \"Cast to int\" >> beam.Map(lambda record: (int(record[2])))\n",
    "    | \"Sum of all elements\" >> beam.CombineGlobally(sum)\n",
    "    | \"Print result\" >> beam.Map(print)\n",
    ")\n",
    "\n",
    "p1.run()"
   ]
  },
  {
   "cell_type": "markdown",
   "id": "6497ecaa-c423-4dbf-9dd9-7307831a0e48",
   "metadata": {
    "slideshow": {
     "slide_type": "slide"
    }
   },
   "source": [
    "## Case 11: Simple Pipeline with Simple Aggregation Transform\n",
    "###  `Top.Smallest`, `Top.Largest`"
   ]
  },
  {
   "cell_type": "code",
   "execution_count": 28,
   "id": "afb164a2-b1ba-452f-b05b-038bafa099d8",
   "metadata": {},
   "outputs": [
    {
     "name": "stdout",
     "output_type": "stream",
     "text": [
      "[10, 10, 10, 10, 10]\n"
     ]
    },
    {
     "data": {
      "text/plain": [
       "<apache_beam.runners.portability.fn_api_runner.fn_runner.RunnerResult at 0x7f4f0d03c5b0>"
      ]
     },
     "execution_count": 28,
     "metadata": {},
     "output_type": "execute_result"
    }
   ],
   "source": [
    "import apache_beam as beam\n",
    "\n",
    "p1 = beam.Pipeline()\n",
    "\n",
    "(\n",
    "    p1\n",
    "    | \"ReadFromText\" >> beam.io.ReadFromText(\"./example/dept_data.txt\")\n",
    "    | \"SplitRecord\" >> beam.Map(lambda record: record.split(\",\"))\n",
    "    | \"Cast to int\" >> beam.Map(lambda record: (int(record[2])))\n",
    "    | \"Top Smallest 5\" >> beam.combiners.Top.Smallest(5)\n",
    "    # | \"Top Largest 5\" >> beam.combiners.Top.Largest(5)\n",
    "    | \"Print result\" >> beam.Map(print)\n",
    ")\n",
    "\n",
    "p1.run()"
   ]
  },
  {
   "cell_type": "markdown",
   "id": "3a90b323-83b1-41ba-b677-f0f53d135fe8",
   "metadata": {
    "slideshow": {
     "slide_type": "slide"
    }
   },
   "source": [
    "## Case 12: Simple Pipeline with Simple Aggregation Transform\n",
    "###  `CombinePerKey(sum)`, `CombinePerKey(min)`, `CombinePerKey(max)`"
   ]
  },
  {
   "cell_type": "code",
   "execution_count": 29,
   "id": "d9501ff5-78bd-4d5f-a4c1-98be6c683a28",
   "metadata": {},
   "outputs": [
    {
     "name": "stdout",
     "output_type": "stream",
     "text": [
      "('Marco', 310)\n",
      "('Rebekah', 310)\n",
      "('Itoe', 310)\n",
      "('Edouard', 310)\n",
      "('Kyle', 620)\n",
      "('Kumiko', 1240)\n",
      "('Gaston', 310)\n",
      "('Beryl', 1240)\n",
      "('Olga', 620)\n",
      "('Leslie', 620)\n",
      "('Mindy', 620)\n",
      "('Vicky', 620)\n",
      "('Richard', 620)\n",
      "('Kirk', 620)\n",
      "('Kaori', 1550)\n",
      "('Oscar', 620)\n",
      "('Wendy', 930)\n",
      "('Cristobal', 930)\n",
      "('Erika', 930)\n",
      "('Sebastien', 930)\n",
      "('Valerie', 930)\n",
      "('Dolly', 930)\n",
      "('Emily', 930)\n",
      "('Hitomi', 930)\n",
      "('Ayumi', 300)\n"
     ]
    },
    {
     "data": {
      "text/plain": [
       "<apache_beam.runners.portability.fn_api_runner.fn_runner.RunnerResult at 0x7f4f0d085ac0>"
      ]
     },
     "execution_count": 29,
     "metadata": {},
     "output_type": "execute_result"
    }
   ],
   "source": [
    "import apache_beam as beam\n",
    "\n",
    "p1 = beam.Pipeline()\n",
    "\n",
    "(\n",
    "    p1\n",
    "    | \"ReadFromText\" >> beam.io.ReadFromText(\"./example/dept_data.txt\")\n",
    "    | \"SplitRecord\" >> beam.Map(lambda record: record.split(\",\"))\n",
    "    # | \"Cast to int\" >> beam.Map(lambda record: (record[3], int(record[2])))\n",
    "    | \"Map to Key Value\" >> beam.Map(lambda record: (record[1], int(record[2])))\n",
    "    | \"Calculate elements per key\" >> beam.CombinePerKey(sum)\n",
    "    | \"Print result\" >> beam.Map(print)\n",
    ")\n",
    "\n",
    "p1.run()"
   ]
  },
  {
   "cell_type": "markdown",
   "id": "ca739b08-3f99-4ae6-8918-50513b71eb82",
   "metadata": {
    "slideshow": {
     "slide_type": "slide"
    }
   },
   "source": [
    "## Case 13: Simple Pipeline with Simple Aggregation Transform\n",
    "###  `Mean.Globally`"
   ]
  },
  {
   "cell_type": "code",
   "execution_count": 30,
   "id": "ecd7f629-eeb4-4b4f-8146-7d984d5cfd05",
   "metadata": {},
   "outputs": [
    {
     "name": "stdout",
     "output_type": "stream",
     "text": [
      "20.356347438752785\n"
     ]
    },
    {
     "data": {
      "text/plain": [
       "<apache_beam.runners.portability.fn_api_runner.fn_runner.RunnerResult at 0x7f4ee02b7d30>"
      ]
     },
     "execution_count": 30,
     "metadata": {},
     "output_type": "execute_result"
    }
   ],
   "source": [
    "import apache_beam as beam\n",
    "\n",
    "p1 = beam.Pipeline()\n",
    "\n",
    "(\n",
    "    p1\n",
    "    | \"ReadFromText\" >> beam.io.ReadFromText(\"./example/dept_data.txt\")\n",
    "    | \"SplitRecord\" >> beam.Map(lambda record: record.split(\",\"))\n",
    "    | \"Cast to int\" >> beam.Map(lambda record: (int(record[2])))\n",
    "    | \"Mean of all elements\" >> beam.combiners.Mean.Globally()\n",
    "    | \"Print result\" >> beam.Map(print)\n",
    ")\n",
    "\n",
    "p1.run()"
   ]
  },
  {
   "cell_type": "markdown",
   "id": "9437bc78-5d1a-4a38-88c5-a418d42f6356",
   "metadata": {
    "slideshow": {
     "slide_type": "slide"
    }
   },
   "source": [
    "## Case 14: Simple Pipeline with Simple Aggregation Transform\n",
    "###  `Mean.PerKey`"
   ]
  },
  {
   "cell_type": "code",
   "execution_count": 31,
   "id": "12714252-f4f3-462d-ac5e-3a839649c823",
   "metadata": {},
   "outputs": [
    {
     "name": "stdout",
     "output_type": "stream",
     "text": [
      "('Accounts', 10.0)\n",
      "('HR', 20.0)\n",
      "('Finance', 30.0)\n"
     ]
    },
    {
     "data": {
      "text/plain": [
       "<apache_beam.runners.portability.fn_api_runner.fn_runner.RunnerResult at 0x7f4f0d17b160>"
      ]
     },
     "execution_count": 31,
     "metadata": {},
     "output_type": "execute_result"
    }
   ],
   "source": [
    "import apache_beam as beam\n",
    "\n",
    "p1 = beam.Pipeline()\n",
    "\n",
    "(\n",
    "    p1\n",
    "    | \"ReadFromText\" >> beam.io.ReadFromText(\"./example/dept_data.txt\")\n",
    "    | \"SplitRecord\" >> beam.Map(lambda record: record.split(\",\"))\n",
    "    | \"Cast to int\" >> beam.Map(lambda record: (record[3], int(record[2])))\n",
    "    # | \"Map to Key Value\" >> beam.Map(lambda record: (record[1], int(record[2])))\n",
    "    | \"Mean elements per key\" >> beam.combiners.Mean.PerKey()\n",
    "    | \"Print result\" >> beam.Map(print)\n",
    ")\n",
    "\n",
    "p1.run()"
   ]
  },
  {
   "cell_type": "markdown",
   "id": "730a887d",
   "metadata": {
    "slideshow": {
     "slide_type": "slide"
    }
   },
   "source": [
    "## References\n",
    "\n",
    "- [Tour of Beam](https://tour.beam.apache.org/)\n",
    "- [Streaming Systems](https://www.oreilly.com/library/view/streaming-systems/9781491983867/)"
   ]
  }
 ],
 "metadata": {
  "celltoolbar": "Slideshow",
  "kernelspec": {
   "display_name": "Python 3 (ipykernel)",
   "language": "python",
   "name": "python3"
  },
  "language_info": {
   "codemirror_mode": {
    "name": "ipython",
    "version": 3
   },
   "file_extension": ".py",
   "mimetype": "text/x-python",
   "name": "python",
   "nbconvert_exporter": "python",
   "pygments_lexer": "ipython3",
   "version": "3.9.18"
  }
 },
 "nbformat": 4,
 "nbformat_minor": 5
}
